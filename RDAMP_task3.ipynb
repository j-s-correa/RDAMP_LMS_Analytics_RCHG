{
  "nbformat": 4,
  "nbformat_minor": 0,
  "metadata": {
    "colab": {
      "provenance": []
    },
    "kernelspec": {
      "name": "python3",
      "display_name": "Python 3"
    },
    "language_info": {
      "name": "python"
    }
  },
  "cells": [
    {
      "cell_type": "code",
      "source": [
        "!pip install openpyxl\n",
        "# ==============================================\n",
        "# ✅ STEP 1: Mount Google Drive\n",
        "# ==============================================\n",
        "from google.colab import drive\n",
        "drive.mount('/content/drive')\n",
        "# ==============================================\n",
        "# ✅ STEP 2: Import Libraries\n",
        "# ==============================================\n",
        "import pandas as pd\n",
        "import numpy as np\n",
        "\n",
        "# ==============================================\n",
        "# ✅ STEP 3: Load Dataset\n",
        "# ==============================================\n",
        "file_path = '/content/drive/MyDrive/RDAMP/RCHG_LMS_Analytics_Dataset_updated.xlsx'\n",
        "df = pd.read_excel(file_path)\n",
        "\n",
        "# Only drop rows where ALL columns match\n",
        "df.drop_duplicates(inplace=True)\n",
        "# ==============================================\n",
        "# ✅ STEP 4: Standardize Column Names\n",
        "# ==============================================\n",
        "df.columns = [col.strip().replace(\" \", \"_\") for col in df.columns]\n",
        "\n",
        "import pandas as pd\n",
        "\n",
        "# ================================================================\n",
        "# ✅ STEP 5: New columns creation to have \"anomalies\" flagged\n",
        "# ================================================================\n",
        "\n",
        "# Create DaysSpent = CompletionDate - EnrollmentDate\n",
        "df['DaysSpent'] = (df['CompletionDate'] - df['EnrollmentDate']).dt.days\n",
        "\n",
        "# Create Days_Enroll_vs_Joined = EnrollmentDate - JoinedDate\n",
        "df['Days_Enroll_vs_Joined'] = (df['EnrollmentDate'] - df['JoinedDate']).dt.days\n",
        "\n",
        "# Create Days_LastAccess_vs_Completion = LastAccessDate - CompletionDate\n",
        "df['Days_LastAccess_vs_Completion'] = (df['LastAccessDate'] - df['CompletionDate']).dt.days\n",
        "\n",
        "# Create Enroll_minus_Join (same as Days_Enroll_vs_Joined for clarity in some dashboards)\n",
        "df['Enroll_minus_Join'] = df['Days_Enroll_vs_Joined']\n",
        "\n",
        "# Create CourseBeforeEmployee flag\n",
        "df['CourseBeforeEmployee'] = df['Enroll_minus_Join'] < 0\n",
        "\n",
        "# Create Join_vs_Enroll_Status column\n",
        "df['Join_vs_Enroll_Status'] = df['Enroll_minus_Join'].apply(lambda x: 'Anomaly' if x < 0 else 'OK')\n",
        "\n",
        "# ==============================================\n",
        "# ✅ STEP 6: Export Clean Dataset for Power BI\n",
        "# ==============================================\n",
        "# ✅ Define output path for Excel file\n",
        "output_path = '/content/drive/MyDrive/RDAMP/Final_Enriched_LMS_Dataset.xlsx'\n",
        "\n",
        "df.to_excel(output_path, index=False)\n",
        "\n",
        "print(f\"\\n✅ Cleaned Dataset Saved for Power BI: {output_path}\")"
      ],
      "metadata": {
        "colab": {
          "base_uri": "https://localhost:8080/"
        },
        "id": "Wmsm_fF3oNmx",
        "outputId": "b28ff9e3-b159-42f1-f773-6355479d8104"
      },
      "execution_count": 4,
      "outputs": [
        {
          "output_type": "stream",
          "name": "stdout",
          "text": [
            "Requirement already satisfied: openpyxl in /usr/local/lib/python3.11/dist-packages (3.1.5)\n",
            "Requirement already satisfied: et-xmlfile in /usr/local/lib/python3.11/dist-packages (from openpyxl) (2.0.0)\n",
            "Drive already mounted at /content/drive; to attempt to forcibly remount, call drive.mount(\"/content/drive\", force_remount=True).\n",
            "\n",
            "✅ Cleaned Dataset Saved for Power BI: /content/drive/MyDrive/RDAMP/Final_Enriched_LMS_Dataset1.xlsx\n"
          ]
        }
      ]
    }
  ]
}